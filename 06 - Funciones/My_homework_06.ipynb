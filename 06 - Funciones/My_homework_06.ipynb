{
 "cells": [
  {
   "attachments": {},
   "cell_type": "markdown",
   "metadata": {},
   "source": [
    "1. Crear una función que reciba un número como parámetro y devuelva si True si es primo y False si no lo es"
   ]
  },
  {
   "cell_type": "code",
   "execution_count": 2,
   "metadata": {},
   "outputs": [],
   "source": [
    "def es_Primo(n) :\n",
    "    if (type(n) != int or n <= 0):\n",
    "        raise Exception('Debe ser un número entero y positivo ')\n",
    "    else:\n",
    "        primo = True\n",
    "        for i in range(2, int(n / 2)+1 ):\n",
    "            if n % i == 0:\n",
    "                primo = False\n",
    "                break \n",
    "        return primo   \n",
    "    \n",
    "    \n",
    "    \n",
    " "
   ]
  },
  {
   "attachments": {},
   "cell_type": "markdown",
   "metadata": {},
   "source": [
    "2. Utilizando la función del punto 1, realizar otra función que reciba de parámetro una lista de números y devuelva sólo aquellos que son primos en otra lista"
   ]
  },
  {
   "cell_type": "code",
   "execution_count": 6,
   "metadata": {},
   "outputs": [
    {
     "name": "stdout",
     "output_type": "stream",
     "text": [
      "La lista es :  [1, 2, 3, 4, 5, 6, 7, 8, 9, 10, 11, 12, 13, 14, 15, 16, 17, 18, 19]\n",
      "Los primos son :  [1, 2, 3, 5, 7, 11, 13, 17, 19]\n"
     ]
    }
   ],
   "source": [
    "def lista_primos(lista) :\n",
    "    lis_prim = []\n",
    "    for i in lista :\n",
    "        if es_Primo(i):\n",
    "            lis_prim.append(i)\n",
    "    return lis_prim        \n",
    "\n",
    "lis = list(range(1,20))\n",
    "\n",
    "print('La lista es : ', lis)\n",
    "\n",
    "print('Los primos son : ', lista_primos(lis))   "
   ]
  },
  {
   "attachments": {},
   "cell_type": "markdown",
   "metadata": {},
   "source": [
    "3. Crear una función que al recibir una lista de números, devuelva el que más se repite y cuántas veces lo hace. Si hay más de un \"más repetido\", que devuelva cualquiera"
   ]
  },
  {
   "cell_type": "code",
   "execution_count": 7,
   "metadata": {},
   "outputs": [
    {
     "name": "stdout",
     "output_type": "stream",
     "text": [
      "(2, 3)\n"
     ]
    }
   ],
   "source": [
    "def mas_repetido(list_):\n",
    "    mas_rep, veces = 0, 0\n",
    "    for i in range(len(list_)):\n",
    "        if list_.count(list_[i]) > mas_rep:\n",
    "            mas_rep = list_[i]\n",
    "            veces = list_.count(list_[i])\n",
    "    return mas_rep, veces\n",
    "\n",
    "\n",
    "lista = [1,2,3,2,2,1,5]    \n",
    "\n",
    "print(mas_repetido(lista))    \n",
    "            "
   ]
  },
  {
   "attachments": {},
   "cell_type": "markdown",
   "metadata": {},
   "source": [
    "4. A la función del punto 3, agregar un parámetro más, que permita elegir si se requiere el menor o el mayor de los mas repetidos."
   ]
  },
  {
   "cell_type": "code",
   "execution_count": 34,
   "metadata": {},
   "outputs": [
    {
     "name": "stdout",
     "output_type": "stream",
     "text": [
      "(2, 3)\n",
      "(4, 3)\n"
     ]
    }
   ],
   "source": [
    "\n",
    "\n",
    "def mas_repetido_mayor(list_, reverse_ = False):\n",
    "    mas_repetido_ = 0\n",
    "    veces = 0 \n",
    "    rev_ = reverse_\n",
    "    cant = 0\n",
    "    \n",
    "    if rev_ :\n",
    "        list_.sort(reverse = True)\n",
    "    else :\n",
    "        list_.sort(reverse = False)    \n",
    "    \n",
    "    for i in range(len(list_)):\n",
    "        cant = int(list_.count(list_[i]))\n",
    "        if cant > veces:\n",
    "            mas_repetido_ = list_[i]\n",
    "            veces = cant\n",
    "            \n",
    "    return mas_repetido_, veces\n",
    "\n",
    "\n",
    "lista = [1,2,3,2,2,1,5,4,4,4]    \n",
    "\n",
    "print(mas_repetido_mayor(lista, False)) \n",
    "\n",
    "print(mas_repetido_mayor(lista, True))\n"
   ]
  },
  {
   "attachments": {},
   "cell_type": "markdown",
   "metadata": {},
   "source": [
    "\n",
    "5. Crear una función que convierta entre grados Celsius, Farenheit y Kelvin<br>\n",
    "Fórmula 1\t: (°C × 9/5) + 32 = °F<br>\n",
    "Fórmula 2\t: °C + 273.15 = °K<br>\n",
    "Debe recibir 3 parámetros: el valor, la medida de orígen y la medida de destino"
   ]
  },
  {
   "cell_type": "code",
   "execution_count": 46,
   "metadata": {},
   "outputs": [],
   "source": [
    "def conversion_grados(valor, origen, destino):\n",
    "    val_ = ['celsius', 'farenheit', 'kelvin']\n",
    "    assert(origen != destino and ((origen in val_) and (destino in val_)))\n",
    "       \n",
    "    result = 0\n",
    "    if (origen == 'celsius' and destino == 'farenheit'):\n",
    "        result = (valor * 9 / 5) + 32\n",
    "    elif(origen == 'celsius' and destino == 'kelvin'):\n",
    "        result = valor + 273.15\n",
    "    elif(origen == 'farenheit' and destino == 'kelvin'):\n",
    "        result = ((valor - 32) / (9/5) ) + 273.15\n",
    "    elif(origen == 'farenheit' and destino == 'celsius'):\n",
    "        result = ((valor - 32) / (9/5) ) \n",
    "    elif(origen == 'kelvin' and destino == 'celsius'):\n",
    "        result = valor - 273.15   \n",
    "    elif(origen == 'kelvin' and destino == 'farenheit'):\n",
    "        result = valor * (9/5) - (273.15 * (9/5)) + 32\n",
    "        \n",
    "    return round(result,2)                        "
   ]
  },
  {
   "cell_type": "code",
   "execution_count": 48,
   "metadata": {},
   "outputs": [
    {
     "data": {
      "text/plain": [
       "307.15"
      ]
     },
     "execution_count": 48,
     "metadata": {},
     "output_type": "execute_result"
    }
   ],
   "source": [
    "conversion_grados(34, 'celsius', 'kelvin')\n"
   ]
  },
  {
   "attachments": {},
   "cell_type": "markdown",
   "metadata": {},
   "source": [
    "\n",
    "7. Armar una función que devuelva el factorial de un número. Tener en cuenta que el usuario puede equivocarse y enviar de parámetro un número no entero o negativo"
   ]
  },
  {
   "cell_type": "code",
   "execution_count": 49,
   "metadata": {},
   "outputs": [],
   "source": [
    "def factorial(numero):\n",
    "    if(type(numero) != int):\n",
    "        return 'El numero debe ser un entero'\n",
    "    if(numero < 0):\n",
    "        return 'El numero debe ser pisitivo'\n",
    "    if (numero > 1):\n",
    "        numero = numero * factorial(numero - 1)\n",
    "    return numero"
   ]
  },
  {
   "cell_type": "code",
   "execution_count": null,
   "metadata": {},
   "outputs": [],
   "source": []
  }
 ],
 "metadata": {
  "kernelspec": {
   "display_name": "Python 3",
   "language": "python",
   "name": "python3"
  },
  "language_info": {
   "codemirror_mode": {
    "name": "ipython",
    "version": 3
   },
   "file_extension": ".py",
   "mimetype": "text/x-python",
   "name": "python",
   "nbconvert_exporter": "python",
   "pygments_lexer": "ipython3",
   "version": "3.9.13"
  },
  "orig_nbformat": 4,
  "vscode": {
   "interpreter": {
    "hash": "b2e652f635080af47a587503e30de6976439f49ada01b3349f0f0746ac93a74c"
   }
  }
 },
 "nbformat": 4,
 "nbformat_minor": 2
}
