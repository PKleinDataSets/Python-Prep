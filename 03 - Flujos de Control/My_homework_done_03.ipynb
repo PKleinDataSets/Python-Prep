{
 "cells": [
  {
   "attachments": {},
   "cell_type": "markdown",
   "metadata": {},
   "source": [
    "## Flujos de Control"
   ]
  },
  {
   "attachments": {},
   "cell_type": "markdown",
   "metadata": {},
   "source": [
    "1. Crear una variable que contenga un elemento del conjunto de números enteros y luego imprimir por pantalla si es mayor o menor a cero"
   ]
  },
  {
   "cell_type": "code",
   "execution_count": 8,
   "metadata": {},
   "outputs": [],
   "source": [
    "def mayor_a_0():\n",
    "    var = input('Escribe un número: ')\n",
    "    var = int(var)\n",
    "    if var > 0 :\n",
    "        print(f'La variable {var} es mayor a 0.')    \n",
    "    elif var < 0 :\n",
    "        print(f'La variable es {var} menor a 0.')       \n",
    "    else :\n",
    "        print('La variable {} es igual a 0'.format(var))\n",
    "        "
   ]
  },
  {
   "cell_type": "code",
   "execution_count": 9,
   "metadata": {},
   "outputs": [
    {
     "name": "stdout",
     "output_type": "stream",
     "text": [
      "La variable 0 es igual a 0\n"
     ]
    }
   ],
   "source": [
    "mayor_a_0()\n"
   ]
  },
  {
   "attachments": {},
   "cell_type": "markdown",
   "metadata": {},
   "source": [
    "2. Crear dos variables y un condicional que informe si son del mismo tipo de dato"
   ]
  },
  {
   "cell_type": "code",
   "execution_count": 10,
   "metadata": {},
   "outputs": [
    {
     "name": "stdout",
     "output_type": "stream",
     "text": [
      "Las variables 2 y 2.0 son de distinto tipo de dato\n",
      "Las variables 2 y 2.0 son de distinto tipo de dato\n",
      "Las variables 2 y 2.0 son de distinto tipo de dato\n"
     ]
    }
   ],
   "source": [
    "var1 = '2'\n",
    "var2 = 2.\n",
    "var3 = 2\n",
    "\n",
    "if (type(var1)== type(var2)) :\n",
    "    print('Las variables {} y {} son del mismo tipo de dato'.format(var1, var2))\n",
    "else :\n",
    "    print('Las variables {} y {} son de distinto tipo de dato'.format(var1, var2))    \n",
    "    \n",
    "if (type(var1)== type(var3)) :\n",
    "    print('Las variables {} y {} son del mismo tipo de dato'.format(var1, var2))\n",
    "else :\n",
    "    print('Las variables {} y {} son de distinto tipo de dato'.format(var1, var2))   \n",
    "    \n",
    "if (type(var2)== type(var3)) :\n",
    "    print('Las variables {} y {} son del mismo tipo de dato'.format(var1, var2))\n",
    "else :\n",
    "    print('Las variables {} y {} son de distinto tipo de dato'.format(var1, var2))     "
   ]
  },
  {
   "attachments": {},
   "cell_type": "markdown",
   "metadata": {},
   "source": [
    "3. Para los valores enteros del 1 al 20, imprimir por pantalla si es par o impar"
   ]
  },
  {
   "cell_type": "code",
   "execution_count": 12,
   "metadata": {},
   "outputs": [
    {
     "name": "stdout",
     "output_type": "stream",
     "text": [
      "El número 1 es impar.\n",
      "El número 2 es par.\n",
      "El número 3 es impar.\n",
      "El número 4 es par.\n",
      "El número 5 es impar.\n",
      "El número 6 es par.\n",
      "El número 7 es impar.\n",
      "El número 8 es par.\n",
      "El número 9 es impar.\n",
      "El número 10 es par.\n",
      "El número 11 es impar.\n",
      "El número 12 es par.\n",
      "El número 13 es impar.\n",
      "El número 14 es par.\n",
      "El número 15 es impar.\n",
      "El número 16 es par.\n",
      "El número 17 es impar.\n",
      "El número 18 es par.\n",
      "El número 19 es impar.\n",
      "El número 20 es par.\n"
     ]
    }
   ],
   "source": [
    "for i in range(1,21):\n",
    "    if i%2 == 0 :\n",
    "        print('El número {} es par.'.format(i))\n",
    "    else :\n",
    "        print('El número {} es impar.'.format(i))    \n",
    "        \n",
    "        "
   ]
  },
  {
   "attachments": {},
   "cell_type": "markdown",
   "metadata": {},
   "source": [
    "4. 4) En un ciclo for mostrar para los valores entre 0 y 5 el resultado de elevarlo a la potencia igual a 3"
   ]
  },
  {
   "cell_type": "code",
   "execution_count": 13,
   "metadata": {},
   "outputs": [
    {
     "name": "stdout",
     "output_type": "stream",
     "text": [
      "0 elevado a 3 : 0\n",
      "1 elevado a 3 : 1\n",
      "2 elevado a 3 : 8\n",
      "3 elevado a 3 : 27\n",
      "4 elevado a 3 : 64\n",
      "5 elevado a 3 : 125\n"
     ]
    }
   ],
   "source": [
    "for i in range(6) :\n",
    "    print('{} elevado a 3 : {}'.format(i, i**3))"
   ]
  },
  {
   "attachments": {},
   "cell_type": "markdown",
   "metadata": {},
   "source": [
    "5. Crear una variable que contenga un número entero y realizar un ciclo for la misma cantidad de ciclos"
   ]
  },
  {
   "cell_type": "code",
   "execution_count": 17,
   "metadata": {},
   "outputs": [
    {
     "name": "stdout",
     "output_type": "stream",
     "text": [
      "11\n"
     ]
    }
   ],
   "source": [
    "n = 12\n",
    "for i in range(0, n):\n",
    "    pass\n",
    "print(i)"
   ]
  },
  {
   "attachments": {},
   "cell_type": "markdown",
   "metadata": {},
   "source": [
    "6. Utilizar un ciclo while para realizar el factorial de un número guardado en una variable, sólo si la variable contiene un número entero mayor a 0"
   ]
  },
  {
   "cell_type": "code",
   "execution_count": 23,
   "metadata": {},
   "outputs": [
    {
     "name": "stdout",
     "output_type": "stream",
     "text": [
      "El factorial de 5 es : 120\n"
     ]
    }
   ],
   "source": [
    "var = input('Ingresa un número entero mayor a 0')\n",
    "try :\n",
    "    var = int(var)\n",
    "except:\n",
    "    print('Debe ingresar un número mayor a 0')\n",
    "\n",
    "if(not (var >= 1)):\n",
    "    print('La variable debe ser mayor a 0')\n",
    "\n",
    "if (type(var) == int and var >= 1) : \n",
    "    n = 1\n",
    "    fact = 1\n",
    "    while(n < var+1) : # lo hice para que se pueda con 0 tambien   \n",
    "        fact *= n\n",
    "        n += 1 \n",
    "    print('El factorial de {} es : {}'.format(var, fact))   "
   ]
  },
  {
   "attachments": {},
   "cell_type": "markdown",
   "metadata": {},
   "source": [
    "7. Crear un ciclo for dentro de un ciclo while"
   ]
  },
  {
   "cell_type": "code",
   "execution_count": 27,
   "metadata": {},
   "outputs": [
    {
     "name": "stdout",
     "output_type": "stream",
     "text": [
      "0\n",
      "1\n",
      "2\n",
      "3\n",
      "4\n",
      "5\n",
      "6\n",
      "7\n",
      "8\n",
      "9\n",
      "Ese era el último\n",
      "0\n",
      "1\n",
      "2\n",
      "3\n",
      "4\n",
      "5\n",
      "6\n",
      "7\n",
      "8\n",
      "9\n",
      "Ese era el último\n"
     ]
    }
   ],
   "source": [
    "c = 1\n",
    "while(c < 3) :\n",
    "    for i in range(10):\n",
    "        print(i)\n",
    "        if i == 9 :\n",
    "            print('Ese era el último')\n",
    "            c += 1\n",
    "            break"
   ]
  },
  {
   "attachments": {},
   "cell_type": "markdown",
   "metadata": {},
   "source": [
    "8. Crear un ciclo while dentro de un ciclo for"
   ]
  },
  {
   "cell_type": "code",
   "execution_count": 28,
   "metadata": {},
   "outputs": [
    {
     "name": "stdout",
     "output_type": "stream",
     "text": [
      "n no es 0 todavia\n",
      "n no es 0 todavia\n",
      "n no es 0 todavia\n",
      "Ahora si\n",
      "n no es 0 todavia\n",
      "n no es 0 todavia\n",
      "n no es 0 todavia\n",
      "Ahora si\n",
      "n no es 0 todavia\n",
      "n no es 0 todavia\n",
      "n no es 0 todavia\n",
      "Ahora si\n"
     ]
    }
   ],
   "source": [
    "for i in range(3):\n",
    "    n = 3\n",
    "    while(n != 0):\n",
    "        print('n no es 0 todavia')\n",
    "        n -= 1\n",
    "    if (n == 0):\n",
    "        print('Ahora si')    "
   ]
  },
  {
   "attachments": {},
   "cell_type": "markdown",
   "metadata": {},
   "source": [
    "9. Imprimir los números primos existentes entre 0 y 30"
   ]
  },
  {
   "cell_type": "code",
   "execution_count": 36,
   "metadata": {},
   "outputs": [
    {
     "name": "stdout",
     "output_type": "stream",
     "text": [
      "2 es primo\n",
      "3 es primo\n",
      "5 es primo\n",
      "7 es primo\n",
      "11 es primo\n",
      "13 es primo\n",
      "17 es primo\n",
      "19 es primo\n",
      "23 es primo\n",
      "29 es primo\n"
     ]
    }
   ],
   "source": [
    "def es_Primo(n):\n",
    "    primo = True\n",
    "    if n== 0 or n == 1 :\n",
    "        return False\n",
    "    elif (type(n) == int and n >=1):\n",
    "        for i in range(2, int(n/2)+1):\n",
    "            if n % i == 0 :\n",
    "                primo = False\n",
    "                break\n",
    "        return primo\n",
    "            \n",
    "    \n",
    "for i in range(31) :\n",
    "    if es_Primo(i) :\n",
    "        print('{} es primo'.format(i))    "
   ]
  },
  {
   "attachments": {},
   "cell_type": "markdown",
   "metadata": {},
   "source": [
    "13. Aplicando continue, armar un ciclo while que solo imprima los valores divisibles por 12, dentro del rango de números de 100 a 300"
   ]
  },
  {
   "cell_type": "code",
   "execution_count": 33,
   "metadata": {},
   "outputs": [
    {
     "name": "stdout",
     "output_type": "stream",
     "text": [
      "108 es multiplo de 12.\n",
      "120 es multiplo de 12.\n",
      "132 es multiplo de 12.\n",
      "144 es multiplo de 12.\n",
      "156 es multiplo de 12.\n",
      "168 es multiplo de 12.\n",
      "180 es multiplo de 12.\n",
      "192 es multiplo de 12.\n",
      "204 es multiplo de 12.\n",
      "216 es multiplo de 12.\n",
      "228 es multiplo de 12.\n",
      "240 es multiplo de 12.\n",
      "252 es multiplo de 12.\n",
      "264 es multiplo de 12.\n",
      "276 es multiplo de 12.\n",
      "288 es multiplo de 12.\n",
      "300 es multiplo de 12.\n"
     ]
    }
   ],
   "source": [
    "n = 99\n",
    "while (n < 300):\n",
    "    n += 1\n",
    "    if (n % 12 != 0) :\n",
    "        continue\n",
    "    print('{} es multiplo de 12.'.format(n))"
   ]
  },
  {
   "attachments": {},
   "cell_type": "markdown",
   "metadata": {},
   "source": [
    "14. Utilizar la función **input()** que permite hacer ingresos por teclado,\n",
    "para encontrar números primos y dar la opción al usario de buscar el siguiente"
   ]
  },
  {
   "cell_type": "code",
   "execution_count": 37,
   "metadata": {},
   "outputs": [
    {
     "name": "stdout",
     "output_type": "stream",
     "text": [
      "2 es primo.\n",
      "3 es primo.\n",
      "5 es primo.\n",
      "7 es primo.\n",
      "11 es primo.\n",
      "13 es primo.\n",
      "17 es primo.\n",
      "19 es primo.\n"
     ]
    }
   ],
   "source": [
    "res_ = True\n",
    "n = 2\n",
    "while(res_):\n",
    "    if (es_Primo(n)):\n",
    "        print('{} es primo.'.format(n))\n",
    "        res = input('Desea encontrar el siguiente primo (si / no): ')\n",
    "        if (res == 'no' or res == 'No'):\n",
    "            res_ = False\n",
    "    n += 1        "
   ]
  },
  {
   "attachments": {},
   "cell_type": "markdown",
   "metadata": {},
   "source": [
    "15. Crear un ciclo while que encuentre dentro del rango de 100 a 300 el primer número divisible por 3 y además múltiplo de 6"
   ]
  },
  {
   "cell_type": "code",
   "execution_count": 38,
   "metadata": {},
   "outputs": [
    {
     "name": "stdout",
     "output_type": "stream",
     "text": [
      "102\n"
     ]
    }
   ],
   "source": [
    "n = 99\n",
    "while(n < 300):\n",
    "    n += 1 \n",
    "    if (n % 6 == 0) :\n",
    "        print(n)\n",
    "        break\n",
    "    "
   ]
  },
  {
   "cell_type": "code",
   "execution_count": null,
   "metadata": {},
   "outputs": [],
   "source": []
  }
 ],
 "metadata": {
  "kernelspec": {
   "display_name": "Python 3",
   "language": "python",
   "name": "python3"
  },
  "language_info": {
   "codemirror_mode": {
    "name": "ipython",
    "version": 3
   },
   "file_extension": ".py",
   "mimetype": "text/x-python",
   "name": "python",
   "nbconvert_exporter": "python",
   "pygments_lexer": "ipython3",
   "version": "3.9.13"
  },
  "orig_nbformat": 4,
  "vscode": {
   "interpreter": {
    "hash": "b2e652f635080af47a587503e30de6976439f49ada01b3349f0f0746ac93a74c"
   }
  }
 },
 "nbformat": 4,
 "nbformat_minor": 2
}
