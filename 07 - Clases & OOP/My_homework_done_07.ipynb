{
 "cells": [
  {
   "attachments": {},
   "cell_type": "markdown",
   "metadata": {},
   "source": [
    "1. Crear la clase vehículo que contenga los atributos:<br>\n",
    "Color<br>\n",
    "Si es moto, auto, camioneta ó camión<br>\n",
    "Cilindrada del motor\n"
   ]
  },
  {
   "cell_type": "code",
   "execution_count": 8,
   "metadata": {},
   "outputs": [],
   "source": [
    "class Vehiculo :\n",
    "    def __init__(self, tipo_, color_, cilindrada_):\n",
    "        self.tipo = tipo_\n",
    "        self.color = color_\n",
    "        self.cilindrada = cilindrada_"
   ]
  },
  {
   "attachments": {},
   "cell_type": "markdown",
   "metadata": {},
   "source": [
    "2. A la clase Vehiculo creada en el punto 1, agregar los siguientes métodos:<br>\n",
    "Acelerar<br>\n",
    "Frenar<br>\n",
    "Doblar<br>"
   ]
  },
  {
   "cell_type": "code",
   "execution_count": 14,
   "metadata": {},
   "outputs": [],
   "source": [
    "class Vehiculo :\n",
    "    def __init__(self, tipo_, color_, cilindrada_):\n",
    "        self.tipo = tipo_\n",
    "        self.color = color_\n",
    "        self.cilindrada = cilindrada_\n",
    "        self.velocidad = 0\n",
    "        self.direccion = 0\n",
    "        \n",
    "    def Acelerar(self, vel) :\n",
    "        self.velocidad += vel  \n",
    "          \n",
    "    def Frenar(self, vel):\n",
    "        self.velocidad += vel\n",
    "    \n",
    "    def Doblar(self, grados) :\n",
    "        self.direccion += grados\n",
    "        self.direccion %= 360 \n",
    "        \n",
    "    def Estado(self):\n",
    "        print('Velocidad:', self.velocidad, '- Dirección:', self.direccion)\n",
    "\n",
    "    def Detalle(self):\n",
    "        print('Soy', self.tipo, 'de color', self.color, 'y mi cilindrada es de',\n",
    "              self.cilindrada, 'litros')       \n",
    "            "
   ]
  },
  {
   "cell_type": "code",
   "execution_count": 15,
   "metadata": {},
   "outputs": [],
   "source": [
    "v1 = Vehiculo('moto', 'negra', 0.65)\n",
    "v2 = Vehiculo('moto', 'roja', 0.6)\n",
    "v3 = Vehiculo('auto', 'blanco', 1.8)"
   ]
  },
  {
   "cell_type": "code",
   "execution_count": 16,
   "metadata": {},
   "outputs": [],
   "source": [
    "v1.Acelerar(40)\n",
    "v2.Acelerar(60)\n",
    "v3.Acelerar(30)\n",
    "v1.Doblar(30)\n",
    "v3.Doblar(-30)\n",
    "v2.Frenar(-50)"
   ]
  },
  {
   "cell_type": "code",
   "execution_count": 41,
   "metadata": {},
   "outputs": [],
   "source": [
    "import copy\n"
   ]
  },
  {
   "cell_type": "code",
   "execution_count": 59,
   "metadata": {},
   "outputs": [],
   "source": [
    "class Herramientas :\n",
    "    #def __init__(self) -> None:\n",
    "     #   pass\n",
    "     \n",
    "    def __init__(self, lista_numeros):\n",
    "        self.lista = lista_numeros \n",
    "    \n",
    "    def __es_Primo(self, n) :\n",
    "        if (type(n) != int or n <= 0):\n",
    "            raise Exception('Debe ser un número entero y positivo ')\n",
    "        else:\n",
    "            primo = True\n",
    "            for i in range(2, int(n / 2)+1 ):\n",
    "                if n % i == 0:\n",
    "                    primo = False\n",
    "                    break \n",
    "            return primo\n",
    "    \n",
    "    def lista_primos(self):\n",
    "        list_prim = []\n",
    "        for i in self.lista :\n",
    "            if self.__es_Primo(i):\n",
    "                list_prim.append(i)\n",
    "        return list_prim        \n",
    "    \n",
    "    def mas_repetido(self):\n",
    "        mas_rep, veces = 0, 0\n",
    "        for i in range(len(self.lista)):\n",
    "            if self.lista.count(self.lista[i]) > mas_rep:\n",
    "                mas_rep = self.lista[i]\n",
    "                veces = self.lista.count(self.lista[i])\n",
    "        return mas_rep, veces    \n",
    "    \n",
    "    def mas_repetido_mayor(self, reverse_ = False):\n",
    "        mas_repetido_ = 0\n",
    "        veces = 0 \n",
    "        rev_ = reverse_\n",
    "        cant = 0\n",
    "        list_ = copy.deepcopy(self.lista)\n",
    "        \n",
    "        if rev_ :\n",
    "            list_.sort(reverse = True)\n",
    "        else :\n",
    "            list_.sort(reverse = False)    \n",
    "    \n",
    "        for i in range(len(list_)):\n",
    "            cant = int(list_.count(list_[i]))\n",
    "            if cant > veces:\n",
    "                mas_repetido_ = list_[i]\n",
    "                veces = cant\n",
    "            \n",
    "        return mas_repetido_, veces   \n",
    "    \n",
    "    def __conversion_grados(self, valor, origen, destino):\n",
    "        val_ = ['celsius', 'farenheit', 'kelvin']\n",
    "        assert(origen != destino and ((origen in val_) and (destino in val_)))\n",
    "        result = 0\n",
    "        \n",
    "        if (origen == 'celsius' and destino == 'farenheit'):\n",
    "            result = (valor * 9 / 5) + 32\n",
    "        elif(origen == 'celsius' and destino == 'kelvin'):\n",
    "            result = valor + 273.15\n",
    "        elif(origen == 'farenheit' and destino == 'kelvin'):\n",
    "            result = ((valor - 32) / (9/5) ) + 273.15\n",
    "        elif(origen == 'farenheit' and destino == 'celsius'):\n",
    "            result = ((valor - 32) / (9/5) ) \n",
    "        elif(origen == 'kelvin' and destino == 'celsius'):\n",
    "            result = valor - 273.15   \n",
    "        elif(origen == 'kelvin' and destino == 'farenheit'):\n",
    "            result = valor * (9/5) - (273.15 * (9/5)) + 32\n",
    "        \n",
    "        return round(result,2)\n",
    "    \n",
    "    def conversion_grados(self, origen, destino):\n",
    "        for i in self.lista:\n",
    "            print(i, 'grados', origen, 'son', \n",
    "                  self.__conversion_grados(i, origen, destino),'grados',destino) \n",
    "\n",
    "    def __factorial(self, numero):\n",
    "        if(type(numero) != int):\n",
    "            return 'El numero debe ser un entero'\n",
    "        if(numero < 0):\n",
    "            return 'El numero debe ser pisitivo'\n",
    "        result = 1\n",
    "        for i in range(1, numero+1):\n",
    "            result *= i\n",
    "        return result  \n",
    "    \n",
    "    def factorial(self):\n",
    "        fact = []\n",
    "        for i in self.lista:\n",
    "            if (type(i) == int and i >= 1):\n",
    "                fact.append(self.__factorial(i))  \n",
    "        return fact        "
   ]
  },
  {
   "attachments": {},
   "cell_type": "markdown",
   "metadata": {},
   "source": [
    "6. Probar las funciones incorporadas en la clase del punto 5"
   ]
  },
  {
   "cell_type": "code",
   "execution_count": 60,
   "metadata": {},
   "outputs": [
    {
     "name": "stdout",
     "output_type": "stream",
     "text": [
      "[1, 2, 6, 6, 6, 2, 1]\n",
      "(3, 3)\n"
     ]
    }
   ],
   "source": [
    "h = Herramientas([1,2,3,3,3,2,1])\n",
    "\n",
    "print(h.factorial())\n",
    "print(h.mas_repetido())"
   ]
  },
  {
   "cell_type": "code",
   "execution_count": 61,
   "metadata": {},
   "outputs": [
    {
     "name": "stdout",
     "output_type": "stream",
     "text": [
      "[1, 2, 3, 5, 7]\n"
     ]
    }
   ],
   "source": [
    "h = Herramientas([1,2,3,4,5,6,7,8])\n",
    "\n",
    "print(h.lista_primos())"
   ]
  },
  {
   "cell_type": "code",
   "execution_count": 62,
   "metadata": {},
   "outputs": [
    {
     "name": "stdout",
     "output_type": "stream",
     "text": [
      "[1, 2, 3, 3, 3, 2, 4, 4, 4, 1]\n"
     ]
    },
    {
     "data": {
      "text/plain": [
       "(3, 3)"
      ]
     },
     "execution_count": 62,
     "metadata": {},
     "output_type": "execute_result"
    }
   ],
   "source": [
    "h = Herramientas([1,2,3,3,3,2,4,4,4,1])\n",
    "\n",
    "h2 = copy.deepcopy(h.lista)\n",
    "\n",
    "print(h2)\n",
    "\n",
    "h.mas_repetido_mayor(False)"
   ]
  },
  {
   "cell_type": "code",
   "execution_count": 63,
   "metadata": {},
   "outputs": [
    {
     "data": {
      "text/plain": [
       "[1, 2, 6, 6, 6, 2, 24, 24, 24, 1]"
      ]
     },
     "execution_count": 63,
     "metadata": {},
     "output_type": "execute_result"
    }
   ],
   "source": [
    "h.factorial()\n"
   ]
  },
  {
   "attachments": {},
   "cell_type": "markdown",
   "metadata": {},
   "source": [
    "8. Crear un archivo .py aparte y ubicar allí la clase generada en el punto anterior. Luego realizar la importación del módulo y probar alguna de sus funciones"
   ]
  },
  {
   "cell_type": "code",
   "execution_count": 82,
   "metadata": {},
   "outputs": [],
   "source": [
    "import copy"
   ]
  },
  {
   "cell_type": "code",
   "execution_count": 83,
   "metadata": {},
   "outputs": [
    {
     "data": {
      "text/plain": [
       "<module 'herramientas_' from 'c:\\\\Users\\\\pablo\\\\Desktop\\\\Henry\\\\repos\\\\Original\\\\Python-Prep\\\\07 - Clases & OOP\\\\herramientas_.py'>"
      ]
     },
     "execution_count": 83,
     "metadata": {},
     "output_type": "execute_result"
    }
   ],
   "source": [
    "import herramientas_ as herr\n",
    "import importlib\n",
    "importlib.reload(herr)"
   ]
  },
  {
   "cell_type": "code",
   "execution_count": 84,
   "metadata": {},
   "outputs": [
    {
     "name": "stdout",
     "output_type": "stream",
     "text": [
      "<class 'herramientas_.Herramientas'>\n"
     ]
    }
   ],
   "source": [
    "h2 = herr.Herramientas([2,2,3,87,-4,-4])\n",
    "\n",
    "print(type(h2))"
   ]
  },
  {
   "cell_type": "code",
   "execution_count": 85,
   "metadata": {},
   "outputs": [
    {
     "name": "stdout",
     "output_type": "stream",
     "text": [
      "[2, 2, 6, 2107757298379527717213600518699389595229783738061356212322972511214654115727593174080683423236414793504734471782400000000000000000000]\n"
     ]
    }
   ],
   "source": [
    "print(h2.factorial())\n",
    "\n"
   ]
  },
  {
   "cell_type": "code",
   "execution_count": 86,
   "metadata": {},
   "outputs": [
    {
     "data": {
      "text/plain": [
       "(-4, 2)"
      ]
     },
     "execution_count": 86,
     "metadata": {},
     "output_type": "execute_result"
    }
   ],
   "source": [
    "h2.mas_repetido_mayor()"
   ]
  },
  {
   "cell_type": "code",
   "execution_count": 87,
   "metadata": {},
   "outputs": [
    {
     "data": {
      "text/plain": [
       "(2, 2)"
      ]
     },
     "execution_count": 87,
     "metadata": {},
     "output_type": "execute_result"
    }
   ],
   "source": [
    "h2.mas_repetido_mayor(True)"
   ]
  },
  {
   "cell_type": "code",
   "execution_count": null,
   "metadata": {},
   "outputs": [],
   "source": []
  }
 ],
 "metadata": {
  "kernelspec": {
   "display_name": "Python 3",
   "language": "python",
   "name": "python3"
  },
  "language_info": {
   "codemirror_mode": {
    "name": "ipython",
    "version": 3
   },
   "file_extension": ".py",
   "mimetype": "text/x-python",
   "name": "python",
   "nbconvert_exporter": "python",
   "pygments_lexer": "ipython3",
   "version": "3.9.13"
  },
  "orig_nbformat": 4,
  "vscode": {
   "interpreter": {
    "hash": "b2e652f635080af47a587503e30de6976439f49ada01b3349f0f0746ac93a74c"
   }
  }
 },
 "nbformat": 4,
 "nbformat_minor": 2
}
